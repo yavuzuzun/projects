{
  "nbformat": 4,
  "nbformat_minor": 0,
  "metadata": {
    "colab": {
      "provenance": [],
      "authorship_tag": "ABX9TyPKiEXIa+uyhmKlasreUa2c",
      "include_colab_link": true
    },
    "kernelspec": {
      "name": "python3",
      "display_name": "Python 3"
    },
    "language_info": {
      "name": "python"
    }
  },
  "cells": [
    {
      "cell_type": "markdown",
      "metadata": {
        "id": "view-in-github",
        "colab_type": "text"
      },
      "source": [
        "<a href=\"https://colab.research.google.com/github/yavuzuzun/projects/blob/main/Ex_Preprocessing.ipynb\" target=\"_parent\"><img src=\"https://colab.research.google.com/assets/colab-badge.svg\" alt=\"Open In Colab\"/></a>"
      ]
    },
    {
      "cell_type": "code",
      "execution_count": null,
      "metadata": {
        "id": "ZiejIDPBJ57l"
      },
      "outputs": [],
      "source": [
        "import pandas as pd\n",
        "import numpy as np\n",
        "from sklearn.impute import SimpleImputer\n",
        "from sklearn.preprocessing import StandardScaler, LabelEncoder, OneHotEncoder\n",
        "from sklearn.compose import ColumnTransformer\n",
        "from sklearn.feature_selection import SelectKBest, chi2\n",
        "\n",
        "# Load the data\n",
        "data = pd.read_csv('data.csv')\n",
        "\n",
        "# Drop irrelevant columns\n",
        "data.drop(['ID', 'Name'], axis=1, inplace=True)\n",
        "\n",
        "# Check for missing values\n",
        "missing_values = data.isnull().sum()\n",
        "print(missing_values)\n",
        "\n",
        "# Impute missing values in the Age column with the mean age\n",
        "imputer = SimpleImputer(missing_values = np.nan, strategy = 'mean')\n",
        "data[['Age']] = imputer.fit_transform(data[['Age']])\n",
        "\n",
        "# Check for missing values again\n",
        "missing_values = data.isnull().sum()\n",
        "print(missing_values)\n",
        "\n",
        "# Convert categorical variable to numerical\n",
        "label_encoder = LabelEncoder()\n",
        "data['Gender'] = label_encoder.fit_transform(data['Gender'])\n",
        "\n",
        "# One-hot encode categorical variables\n",
        "onehot_encoder = OneHotEncoder(handle_unknown='ignore')\n",
        "categorical_features = ['Country']\n",
        "transformer = ColumnTransformer(transformers=[('onehot', onehot_encoder, categorical_features)], remainder='passthrough')\n",
        "data = transformer.fit_transform(data)\n",
        "\n",
        "# Scaling numerical features\n",
        "scaler = StandardScaler()\n",
        "numerical_features = ['Age', 'Salary']\n",
        "data[numerical_features] = scaler.fit_transform(data[numerical_features])\n",
        "\n",
        "# Feature selection\n",
        "features = data.drop(['Purchased'], axis=1)\n",
        "target = data['Purchased']\n",
        "selector = SelectKBest(score_func=chi2, k='all')\n",
        "selector.fit(features, target)\n",
        "selected_features = selector.transform(features)\n",
        "print(selected_features)\n",
        "\n",
        "# Save preprocessed data\n",
        "preprocessed_data = pd.DataFrame(data=selected_features, columns=features.columns[selector.get_support()])\n",
        "preprocessed_data['Purchased'] = target\n",
        "preprocessed_data.to_csv('preprocessed_data.csv', index=False)\n"
      ]
    },
    {
      "cell_type": "markdown",
      "source": [
        "In this example, I start by loading the data from a CSV file called 'data.csv'. I then drop irrelevant columns such as 'ID' and 'Name'. I check for missing values and find that the 'Age' column has missing values, which I impute with the mean age using a SimpleImputer. I check for missing values again to confirm that there are no more missing values in the data.\n",
        "\n",
        "I then convert the categorical variable 'Gender' to numerical using a LabelEncoder. I one-hot encode the categorical variable 'Country' using a OneHotEncoder and a ColumnTransformer. I scale the numerical features 'Age' and 'Salary' using a StandardScaler.\n",
        "\n",
        "Next, I perform feature selection using SelectKBest and the chi-squared statistical test. I save the preprocessed data to a new CSV file called 'preprocessed_data.csv'.\n",
        "\n",
        "It's important to carefully evaluate the effects of each preprocessing step on the performance of the machine learning model."
      ],
      "metadata": {
        "id": "i-E9HPCyKAhp"
      }
    },
    {
      "cell_type": "code",
      "source": [],
      "metadata": {
        "id": "BHVvWzphKEWi"
      },
      "execution_count": null,
      "outputs": []
    }
  ]
}