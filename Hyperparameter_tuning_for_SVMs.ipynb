{
  "nbformat": 4,
  "nbformat_minor": 0,
  "metadata": {
    "colab": {
      "provenance": [],
      "authorship_tag": "ABX9TyOGrH/1iUIMshgxFPzqx989",
      "include_colab_link": true
    },
    "kernelspec": {
      "name": "python3",
      "display_name": "Python 3"
    },
    "language_info": {
      "name": "python"
    }
  },
  "cells": [
    {
      "cell_type": "markdown",
      "metadata": {
        "id": "view-in-github",
        "colab_type": "text"
      },
      "source": [
        "<a href=\"https://colab.research.google.com/github/yavuzuzun/projects/blob/main/Hyperparameter_tuning_for_SVMs.ipynb\" target=\"_parent\"><img src=\"https://colab.research.google.com/assets/colab-badge.svg\" alt=\"Open In Colab\"/></a>"
      ]
    },
    {
      "cell_type": "code",
      "execution_count": null,
      "metadata": {
        "id": "XyL7L3Gnuw-a"
      },
      "outputs": [],
      "source": [
        "import numpy as np\n",
        "import pandas as pd\n",
        "\n",
        "# Load the iris dataset from sklarn.datasets\n",
        "from sklearn.datasets import load_iris\n",
        "iris = load_iris()"
      ]
    },
    {
      "cell_type": "code",
      "source": [
        "# Apply 0-1 normalization using MinMaxScaler of sklearn\n",
        "from sklearn.preprocessing import MinMaxScaler\n",
        "scaler = MinMaxScaler()\n",
        "iris.data = scaler.fit_transform(iris.data)"
      ],
      "metadata": {
        "id": "ebrAYhGjvOa1"
      },
      "execution_count": null,
      "outputs": []
    },
    {
      "cell_type": "code",
      "source": [
        "from sklearn.model_selection import GridSearchCV\n",
        "from sklearn.svm import SVC\n",
        "\n",
        "# Assign X, Y values\n",
        "X = iris.data\n",
        "Y = iris.target\n",
        "\n",
        "# Hyperparameters\n",
        "hyperparam_grid = {'kernel': ['linear', 'poly', 'rbf', 'sigmoid', 'precomputed'],\n",
        "              'C': (np.arange(101)/100).tolist(), \n",
        "              'degree': [1, 2, 3, 4]}\n",
        "\n",
        "# Calculate the Laplacian kernel matrix as precomputed kernel matrix\n",
        "from sklearn.metrics.pairwise import laplacian_kernel\n",
        "K = laplacian_kernel(X, gamma=0.1)\n",
        "\n",
        "# Perform a grid search to find the best hyperparameters\n",
        "svm = SVC()\n",
        "grid = GridSearchCV(svm, hyperparam_grid, cv=5)\n",
        "if 'precomputed' in hyperparam_grid['kernel']:\n",
        "    grid.fit(K, Y)\n",
        "else:\n",
        "    grid.fit(X, Y)"
      ],
      "metadata": {
        "id": "30N9AJcqwYQY"
      },
      "execution_count": null,
      "outputs": []
    },
    {
      "cell_type": "code",
      "source": [
        "# Print the best hyperparameters and the corresponding accuracy\n",
        "print(\"Best accuracy is \", grid.best_score_)\n",
        "print(\"Corresponding hyperparameters are \", grid.best_params_)"
      ],
      "metadata": {
        "colab": {
          "base_uri": "https://localhost:8080/"
        },
        "id": "RaSB2HUWBNKX",
        "outputId": "32d32804-ec12-467e-900f-31a6676bd936"
      },
      "execution_count": null,
      "outputs": [
        {
          "output_type": "stream",
          "name": "stdout",
          "text": [
            "Best accuracy is  0.9666666666666668\n",
            "Corresponding hyperparameters are  {'C': 0.01, 'degree': 2, 'kernel': 'poly'}\n"
          ]
        }
      ]
    }
  ]
}