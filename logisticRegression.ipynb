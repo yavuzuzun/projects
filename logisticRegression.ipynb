{
  "nbformat": 4,
  "nbformat_minor": 0,
  "metadata": {
    "colab": {
      "provenance": [],
      "authorship_tag": "ABX9TyPoJw6+TvQPWibMihNZXpH8",
      "include_colab_link": true
    },
    "kernelspec": {
      "name": "python3",
      "display_name": "Python 3"
    },
    "language_info": {
      "name": "python"
    }
  },
  "cells": [
    {
      "cell_type": "markdown",
      "metadata": {
        "id": "view-in-github",
        "colab_type": "text"
      },
      "source": [
        "<a href=\"https://colab.research.google.com/github/yavuzuzun/projects/blob/main/logisticRegression.ipynb\" target=\"_parent\"><img src=\"https://colab.research.google.com/assets/colab-badge.svg\" alt=\"Open In Colab\"/></a>"
      ]
    },
    {
      "cell_type": "markdown",
      "source": [
        "Logistic regression is a type of binary classification algorithm used to predict the probability of an event occurring (i.e., a binary outcome) based on a set of predictor variables. The outcome variable is modeled as a function of the predictor variables, using a logistic function (also called a sigmoid function), which maps any real-valued input to a value between 0 and 1.\n",
        "\n",
        "The logistic function has the following form: P(y=1|x; $\\theta$ ) = Sigmoid(β * x) = (1 + exp(- β * x))^-1\n",
        "​\n",
        " \n",
        "\n",
        "where $x$ is the input feature vector, $\\theta$ is the vector of parameters to be estimated, and $y$ is the binary outcome variable. The logistic function converts the linear combination of predictor variables and parameters into a probability value between 0 and 1.\n",
        "\n",
        "To estimate the parameters $\\theta$, maximum likelihood estimation (MLE) is commonly used. MLE involves finding the parameters that maximize the likelihood of observing the given data, assuming a certain statistical model. In the case of logistic regression, the likelihood function is a product of Bernoulli distributions (one for each observation), and the optimal parameter values are found by maximizing the log-likelihood function. This can be done using numerical optimization methods, such as gradient descent or Newton-Raphson method.\n",
        "\n",
        "Once the parameters are estimated, the logistic regression model can be used to predict the probability of the binary outcome for new input data. A decision threshold is typically applied to classify the binary outcome as 0 or 1, based on whether the predicted probability is above or below the threshold. The threshold can be chosen based on a trade-off between sensitivity and specificity, depending on the problem and application.\n",
        "\n",
        "# From scratch"
      ],
      "metadata": {
        "id": "ntFckw1BDEDw"
      }
    },
    {
      "cell_type": "code",
      "execution_count": null,
      "metadata": {
        "id": "_Jr66wU-CCLV"
      },
      "outputs": [],
      "source": [
        "import numpy as np\n",
        "\n",
        "class LogisticRegression:\n",
        "    def __init__(self, lr=0.01, num_iters=1000, fit_intercept=True, verbose=False):\n",
        "        self.lr = lr\n",
        "        self.num_iters = num_iters\n",
        "        self.fit_intercept = fit_intercept\n",
        "        self.verbose = verbose\n",
        "\n",
        "    def __add_intercept(self, X):\n",
        "        intercept = np.ones((X.shape[0], 1))\n",
        "        return np.concatenate((intercept, X), axis=1)\n",
        "\n",
        "    def __sigmoid(self, z):\n",
        "        return 1 / (1 + np.exp(-z))\n",
        "\n",
        "    def __loss(self, h, y):\n",
        "        return (-y * np.log(h) - (1 - y) * np.log(1 - h)).mean()\n",
        "\n",
        "    def fit(self, X, y):\n",
        "        if self.fit_intercept:\n",
        "            X = self.__add_intercept(X)\n",
        "\n",
        "        # weights initialization\n",
        "        self.theta = np.zeros(X.shape[1])\n",
        "\n",
        "        for i in range(self.num_iters):\n",
        "            z = np.dot(X, self.theta)\n",
        "            h = self.__sigmoid(z)\n",
        "            gradient = np.dot(X.T, (h - y)) / y.size\n",
        "            self.theta -= self.lr * gradient\n",
        "\n",
        "            z = np.dot(X, self.theta)\n",
        "            h = self.__sigmoid(z)\n",
        "            loss = self.__loss(h, y)\n",
        "\n",
        "            if self.verbose and i % 100 == 0:\n",
        "                print(f'Loss at iteration {i}: {loss}')\n",
        "\n",
        "    def predict_prob(self, X):\n",
        "        if self.fit_intercept:\n",
        "            X = self.__add_intercept(X)\n",
        "\n",
        "        return self.__sigmoid(np.dot(X, self.theta))\n",
        "\n",
        "    def predict(self, X, threshold=0.5):\n",
        "        return self.predict_prob(X) >= threshold\n"
      ]
    },
    {
      "cell_type": "markdown",
      "source": [
        "Here, LogisticRegression is a class that takes the following parameters:\n",
        "\n",
        "lr: learning rate for gradient descent (default 0.01)\n",
        "num_iters: number of iterations for gradient descent (default 1000)\n",
        "fit_intercept: whether to fit an intercept term or not (default True)\n",
        "verbose: whether to print loss at each iteration (default False)\n",
        "The class has the following methods:\n",
        "\n",
        "__add_intercept: adds an intercept term to the input X matrix\n",
        "__sigmoid: computes the sigmoid function on the input z\n",
        "__loss: computes the logistic loss function\n",
        "fit: fits the logistic regression model to the input X and y data using gradient descent\n",
        "predict_prob: predicts the probability of a positive label for the input X data\n",
        "predict: predicts the labels for the input X data using a given threshold (default 0.5)\n",
        "Here is an example of using this implementation on a toy dataset:"
      ],
      "metadata": {
        "id": "EPiBDjNJCGUJ"
      }
    },
    {
      "cell_type": "code",
      "source": [
        "import matplotlib.pyplot as plt\n",
        "from sklearn.datasets import make_classification\n",
        "from sklearn.model_selection import train_test_split\n",
        "\n",
        "X, y = make_classification(n_features=2, n_redundant=0, n_informative=1,\n",
        "                           n_clusters_per_class=1, random_state=42)\n",
        "\n",
        "X_train, X_test, y_train, y_test = train_test_split(X, y, test_size=0.2, random_state=42)\n",
        "\n",
        "model = LogisticRegression(lr=0.1, num_iters=5000, verbose=True)\n",
        "model.fit(X_train, y_train)\n",
        "\n",
        "y_pred = model.predict(X_test)\n",
        "\n",
        "plt.scatter(X_test[:,0], X_test[:,1], c=y_test)\n",
        "plt.show()\n"
      ],
      "metadata": {
        "colab": {
          "base_uri": "https://localhost:8080/",
          "height": 1000
        },
        "id": "c9AhbAQuCKRs",
        "outputId": "7e4c188b-968a-43c3-8e81-8da63041c59d"
      },
      "execution_count": null,
      "outputs": [
        {
          "output_type": "stream",
          "name": "stdout",
          "text": [
            "Loss at iteration 0: 0.6693937401793881\n",
            "Loss at iteration 100: 0.14425478753701196\n",
            "Loss at iteration 200: 0.08618723918423622\n",
            "Loss at iteration 300: 0.06325306166724406\n",
            "Loss at iteration 400: 0.05065407521852452\n",
            "Loss at iteration 500: 0.042573540823999494\n",
            "Loss at iteration 600: 0.036900005077692435\n",
            "Loss at iteration 700: 0.03267217930129186\n",
            "Loss at iteration 800: 0.02938596942567051\n",
            "Loss at iteration 900: 0.02675000597194004\n",
            "Loss at iteration 1000: 0.024583416084483167\n",
            "Loss at iteration 1100: 0.022767609404320748\n",
            "Loss at iteration 1200: 0.021221392539610175\n",
            "Loss at iteration 1300: 0.019887188438316418\n",
            "Loss at iteration 1400: 0.018722961533598755\n",
            "Loss at iteration 1500: 0.017697261218649528\n",
            "Loss at iteration 1600: 0.01678605872925217\n",
            "Loss at iteration 1700: 0.01597066065245458\n",
            "Loss at iteration 1800: 0.015236292858337946\n",
            "Loss at iteration 1900: 0.014571115323126571\n",
            "Loss at iteration 2000: 0.013965521645077547\n",
            "Loss at iteration 2100: 0.013411631289005466\n",
            "Loss at iteration 2200: 0.01290291514972618\n",
            "Loss at iteration 2300: 0.012433915135088208\n",
            "Loss at iteration 2400: 0.012000031214662305\n",
            "Loss at iteration 2500: 0.011597357645643435\n",
            "Loss at iteration 2600: 0.01122255556011182\n",
            "Loss at iteration 2700: 0.010872752790061594\n",
            "Loss at iteration 2800: 0.010545464340824904\n",
            "Loss at iteration 2900: 0.01023852869044189\n",
            "Loss at iteration 3000: 0.00995005634238259\n",
            "Loss at iteration 3100: 0.009678387954977722\n",
            "Loss at iteration 3200: 0.00942206002112771\n",
            "Loss at iteration 3300: 0.00917977654916317\n",
            "Loss at iteration 3400: 0.008950385549845558\n",
            "Loss at iteration 3500: 0.008732859399843227\n",
            "Loss at iteration 3600: 0.008526278352698324\n",
            "Loss at iteration 3700: 0.008329816621398433\n",
            "Loss at iteration 3800: 0.008142730574425163\n",
            "Loss at iteration 3900: 0.007964348678424264\n",
            "Loss at iteration 4000: 0.007794062891901342\n",
            "Loss at iteration 4100: 0.007631321270361459\n",
            "Loss at iteration 4200: 0.00747562158763132\n",
            "Loss at iteration 4300: 0.007326505813380657\n",
            "Loss at iteration 4400: 0.007183555315109514\n",
            "Loss at iteration 4500: 0.007046386675609606\n",
            "Loss at iteration 4600: 0.006914648035317461\n",
            "Loss at iteration 4700: 0.006788015883948839\n",
            "Loss at iteration 4800: 0.006666192238042481\n",
            "Loss at iteration 4900: 0.006548902151089514\n"
          ]
        },
        {
          "output_type": "display_data",
          "data": {
            "text/plain": [
              "<Figure size 640x480 with 1 Axes>"
            ],
            "image/png": "[encoded data removed]"
          },
          "metadata": {}
        }
      ]
    }
  ]
}